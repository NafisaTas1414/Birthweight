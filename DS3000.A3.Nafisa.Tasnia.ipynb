{
 "cells": [
  {
   "cell_type": "markdown",
   "id": "aa457cf4",
   "metadata": {},
   "source": [
    "##### Nafisa Tasnia\n",
    "#### DS3000\n",
    "#### 1/28/2024"
   ]
  },
  {
   "cell_type": "code",
   "execution_count": 2,
   "id": "8c5ae44e",
   "metadata": {},
   "outputs": [],
   "source": [
    "import numpy as np"
   ]
  },
  {
   "cell_type": "code",
   "execution_count": 3,
   "id": "65f13ecc",
   "metadata": {},
   "outputs": [],
   "source": [
    "# Q1:"
   ]
  },
  {
   "cell_type": "code",
   "execution_count": 4,
   "id": "f85efeb0",
   "metadata": {},
   "outputs": [],
   "source": [
    "# Loading data\n",
    "data = np.loadtxt(\"birthwt.csv\", delimiter=',', skiprows=1)"
   ]
  },
  {
   "cell_type": "code",
   "execution_count": 5,
   "id": "60f81358",
   "metadata": {},
   "outputs": [],
   "source": [
    "# Turns data into an array\n",
    "data_array = np.array(data, dtype=float)"
   ]
  },
  {
   "cell_type": "code",
   "execution_count": 256,
   "id": "80d6991a",
   "metadata": {
    "scrolled": true
   },
   "outputs": [
    {
     "name": "stdout",
     "output_type": "stream",
     "text": [
      "Dimension is: (189, 10)\n"
     ]
    }
   ],
   "source": [
    "# Displays the dimension of the data\n",
    "print(\"Dimension is:\", data_array.shape)"
   ]
  },
  {
   "cell_type": "code",
   "execution_count": 257,
   "id": "45435982",
   "metadata": {
    "scrolled": true
   },
   "outputs": [
    {
     "name": "stdout",
     "output_type": "stream",
     "text": [
      "The min age is: 14.0\n",
      "The max age is: 45.0\n",
      "The average age is: 23.0\n"
     ]
    }
   ],
   "source": [
    "# Q2:\n",
    "# The age range of mothers in this dataset\n",
    "age = data_array[:,1]\n",
    "\n",
    "# Finds the min,max, and average ages\n",
    "age_min = np.min(age)\n",
    "age_max = np.max(age)\n",
    "age_average = (np.round(np.mean(age)))\n",
    "\n",
    "# displays the min, max, and average ages\n",
    "print(\"The min age is:\", age_min)\n",
    "print(\"The max age is:\", age_max)\n",
    "print(\"The average age is:\", age_average)\n",
    "\n"
   ]
  },
  {
   "cell_type": "code",
   "execution_count": 258,
   "id": "a874021d",
   "metadata": {
    "scrolled": false
   },
   "outputs": [],
   "source": [
    "# Question 3: How many mothers smoked in pregnancy\n",
    "# specifically gets coloumn 4 where the data about whether the mother smoked during pregnancy or not\n",
    "smoking = data_array[:,4]"
   ]
  },
  {
   "cell_type": "code",
   "execution_count": 259,
   "id": "17d3e1b1",
   "metadata": {},
   "outputs": [],
   "source": [
    "# counts how many mothers smoked during pregnancy \n",
    "do_smoke = smoking == 1\n",
    "do_count = np.sum(do_smoke)"
   ]
  },
  {
   "cell_type": "code",
   "execution_count": 260,
   "id": "65e70f0b",
   "metadata": {},
   "outputs": [
    {
     "name": "stdout",
     "output_type": "stream",
     "text": [
      "The number of mothers that smoked: 74\n"
     ]
    }
   ],
   "source": [
    "# displays the number of mothers that smoked\n",
    "print(\"The number of mothers that smoked:\", do_count)"
   ]
  },
  {
   "cell_type": "code",
   "execution_count": 261,
   "id": "bf3a7d60",
   "metadata": {},
   "outputs": [],
   "source": [
    "# Q4: How many mothers had a history of hypertension?\n",
    "# gets the coloumn that contains info about hypertension history of the mothers\n",
    "ht = data_array[:,6]"
   ]
  },
  {
   "cell_type": "code",
   "execution_count": 262,
   "id": "df1283a4",
   "metadata": {},
   "outputs": [],
   "source": [
    "# finds all the mothers who has hypertension and counts them\n",
    "has_hypers = ht == 1\n",
    "hyper_counter = np.sum(has_hypers)"
   ]
  },
  {
   "cell_type": "code",
   "execution_count": 263,
   "id": "945c36df",
   "metadata": {},
   "outputs": [
    {
     "name": "stdout",
     "output_type": "stream",
     "text": [
      "number of mothers with hypertension: 12\n"
     ]
    }
   ],
   "source": [
    "# displays how many mothers have hypertension \n",
    "print(\"number of mothers with hypertension:\", hyper_counter)"
   ]
  },
  {
   "cell_type": "code",
   "execution_count": 279,
   "id": "6792a9d2",
   "metadata": {},
   "outputs": [
    {
     "name": "stdout",
     "output_type": "stream",
     "text": [
      "The number of mothers who have 1 or more premature births 30\n"
     ]
    }
   ],
   "source": [
    "#Q5 How many mothers have 1 or more premature births?\n",
    "                        \n",
    "# gets the coloumn that contains data about premature births\n",
    "plt = data_array[:, 5]\n",
    "\n",
    "# counts how many pre-mature births there are \n",
    "is_premature = plt > 0\n",
    "total_premature = np.sum(is_premature)\n",
    "                        \n",
    "# displays number of mothers who have 1 or more premature births?                       \n",
    "print(\"The number of mothers who have 1 or more premature births\", total_premature)\n"
   ]
  },
  {
   "cell_type": "code",
   "execution_count": 280,
   "id": "22fb801a",
   "metadata": {
    "scrolled": true
   },
   "outputs": [],
   "source": [
    "# Q6 Create a function called convert_birthweight\n",
    "\n",
    "# Establishes variable that has the numbers needed during the conversion of grams to pounds to ounces\n",
    "one_pound = 453.6\n",
    "one_ounce = 16\n",
    "\n",
    "def convert_birthweight(grams):\n",
    "    '''\n",
    "    function: converts grams to pounds and the remaining into ounces rounded\n",
    "    parameter: \n",
    "    (grams): takes in grams, the measure of unit\n",
    "    '''\n",
    "    pounds = grams / one_pound \n",
    "    final_pounds = int(pounds)\n",
    "    remaining_ounces = (pounds - final_pounds) * one_ounce  \n",
    "    return f\"{final_pounds} pounds and {remaining_ounces:.2f} ounces\"\n"
   ]
  },
  {
   "cell_type": "code",
   "execution_count": 278,
   "id": "7569b131",
   "metadata": {},
   "outputs": [
    {
     "name": "stdout",
     "output_type": "stream",
     "text": [
      "The average birth weight of babies whose mothers have a history of premature birth is: 5 pounds and 10.98 ounces\n"
     ]
    }
   ],
   "source": [
    "#Q7 What is the average birth weight of babies whose mothers have a history of premature birth? \n",
    "\n",
    "# finds only the weight of babies whoses mothers hvae a history of premature birth\n",
    "# converting the weight into pounds and ounces \n",
    "if total_premature > 0:\n",
    "    birth = data_array[is_premature, 9]\n",
    "    birth_total = np.mean(birth)\n",
    "    converting_birth = (convert_birthweight(birth_total))\n",
    "    \n",
    "    # prints results\n",
    "    print(\"The average birth weight of babies whose mothers have a history of premature birth is:\", \n",
    "          converting_birth)\n"
   ]
  },
  {
   "cell_type": "code",
   "execution_count": 267,
   "id": "90c43c71",
   "metadata": {},
   "outputs": [],
   "source": [
    "# Q8 What is the minimum, average and maximum birth weight of babies\n",
    "# whose mother did not smoke during pregnancy and do not have a history of hypertension?"
   ]
  },
  {
   "cell_type": "code",
   "execution_count": 268,
   "id": "059a19a9",
   "metadata": {
    "scrolled": false
   },
   "outputs": [
    {
     "name": "stdout",
     "output_type": "stream",
     "text": [
      "The minimum weight of babies whose mothers don't smoke and have no hypertension is: 2 pounds and 4.01 ounces.\n",
      "The max weight of babies whose mothers don't smoke and have no hypertension is: 11 pounds and 0.01 ounces.\n",
      "The average weight of babies whose mothers don't smoke and have no hypertension is: 6 pounds and 13.01 ounces.\n"
     ]
    }
   ],
   "source": [
    "# finds number of mothers that don't have hypertension\n",
    "hyper = ht == 0\n",
    "hyper_counter = np.sum(hyper)\n",
    "\n",
    "# finds number of monthers who don't smoke \n",
    "non_smoker = smoking == 0\n",
    "no = np.sum(non_smoker)\n",
    "\n",
    "# merges the data to create a new array\n",
    "mix = data_array[hyper & non_smoker]\n",
    "\n",
    "# Extract birth weight column for mothers without hypertension and non-smokers\n",
    "births = (mix[:, 9])\n",
    "\n",
    "# finds the min, max, and mean of weight of babies whose mothers don't smoke and have no hypertension\n",
    "find_mn = (convert_birthweight(np.min(births)))\n",
    "find_mx = (convert_birthweight(np.max(births)))\n",
    "find_average = (convert_birthweight(np.mean(births)))\n",
    "\n",
    "print(\"The minimum weight of babies whose mothers don't smoke and have no hypertension is:\",find_mn + \".\")\n",
    "print(\"The max weight of babies whose mothers don't smoke and have no hypertension is:\", find_mx + \".\")\n",
    "print(\"The average weight of babies whose mothers don't smoke and have no hypertension is:\", find_average + \".\")\n",
    "\n",
    "\n"
   ]
  },
  {
   "cell_type": "code",
   "execution_count": 269,
   "id": "0d52ff2b",
   "metadata": {},
   "outputs": [
    {
     "name": "stdout",
     "output_type": "stream",
     "text": [
      "The minimum birthweight of babies whose mothers smoked during pregnancy is 1 pounds and 9.01 ounces.\n",
      "The maximum birthweight of babies whose mothers smoked during pregnancy is 9 pounds and 5.49 ounces.\n",
      "The average birthweight of babies whose mothers smoked during pregnancy is 6 pounds and 1.77 ounces.\n"
     ]
    }
   ],
   "source": [
    "# Q9 What is the minimum, average and maximum birth weight of babies whose mothers smoked during pregnancy?\n",
    "\n",
    "# finds all mothers who smoked during pregnancy\n",
    "do_smoke = smoking == 1\n",
    "do_count = np.sum(do_smoke)\n",
    "\n",
    "# finds the associated weights of babies whose mothers smoked during pregnancy \n",
    "new_d = data_array[do_smoke, 9]\n",
    "\n",
    "# finds the min, max, and average weights of babies whose mothers smoked during pregnancy    \n",
    "finding_mn = (convert_birthweight(np.min(new_d)))\n",
    "finding_mx = (convert_birthweight(np.max(new_d)))\n",
    "finding_average = (convert_birthweight(np.mean(new_d)))\n",
    "\n",
    "# displays the min, max, and average weight of the babies\n",
    "print(\"The minimum birthweight of babies whose mothers smoked during pregnancy is\", finding_mn + \".\")\n",
    "print(\"The maximum birthweight of babies whose mothers smoked during pregnancy is\", finding_mx + \".\")\n",
    "print(\"The average birthweight of babies whose mothers smoked during pregnancy is\", finding_average + \".\")\n",
    "\n"
   ]
  },
  {
   "cell_type": "code",
   "execution_count": 274,
   "id": "f298f8b1",
   "metadata": {},
   "outputs": [
    {
     "name": "stdout",
     "output_type": "stream",
     "text": [
      "The minimum birth weight of babies whose mothers had a history of hypertension is 2 pounds and 8.04 ounces.\n",
      "The maximum birth weight of babies whose mothers had a history of hypertension is 8 pounds and 5.69 ounces.\n",
      "The average birth weight of babies whose mothers had a history of hypertension is 5 pounds and 9.48 ounces.\n"
     ]
    }
   ],
   "source": [
    "# Q10 What is the minimum, average and maximum birth weight of babies whose mothers had \n",
    "# a history of hypertension?\n",
    "\n",
    "# finds the associated babies wieght of the mothers who have hyptensions \n",
    "new_h = data_array[has_hypers, 9]\n",
    "\n",
    "# finds min, max, and average birth weight of babies whose mom had a history of hypertension\n",
    "finding_mns = (convert_birthweight(np.min(new_h)))\n",
    "finding_mxs = (convert_birthweight(np.max(new_h)))\n",
    "find_average = (convert_birthweight(np.mean(new_h)))\n",
    "\n",
    "# displays the min, max, and average birth weights of babies whose mom had a history of hypertension \n",
    "print(\"The minimum birth weight of babies whose mothers had a history of hypertension is\", finding_mns + \".\")\n",
    "print(\"The maximum birth weight of babies whose mothers had a history of hypertension is\", finding_mxs + \".\")\n",
    "print(\"The average birth weight of babies whose mothers had a history of hypertension is\", find_average + \".\")\n"
   ]
  },
  {
   "cell_type": "code",
   "execution_count": 276,
   "id": "cf3e2be5",
   "metadata": {},
   "outputs": [
    {
     "name": "stdout",
     "output_type": "stream",
     "text": [
      "The minimum weight of babies whose mothers smoked during pregnancy and had a history of hypertension is: 2 pounds and 8.04 ounces\n",
      "The maximum weight of babies whose mothers smoked during pregnancy and had a history of hypertension is: 8 pounds and 4.49 ounces\n",
      "The average weight of babies whose mothers smoked during pregnancy and had a history of hypertension is: 5 pounds and 10.34 ounces\n"
     ]
    }
   ],
   "source": [
    "# Q11: What is the minimum, average and maximum birth weight of babies whose\n",
    "# mothers smoked during pregnancy and had a history of hypertension? \n",
    "\n",
    "# creates new array to only contain mothers who smoke and have hypertension \n",
    "new_h_s = data_array[do_smoke & has_hypers]\n",
    "\n",
    "# finds those mothers baby weight\n",
    "birthing = new_h_s[:, 9]\n",
    "\n",
    "# finds min, max, and average weight of babies whose mothers smoked and had a history of hypertension\n",
    "find_min = (convert_birthweight(np.min(birthing)))\n",
    "find_max = (convert_birthweight(np.max(birthing)))\n",
    "find_average = (convert_birthweight(np.mean(birthing)))\n",
    "\n",
    "# displays the min,max, and average \n",
    "print(\"The minimum weight of babies whose mothers smoked during pregnancy and had a history of hypertension is:\", \n",
    "      find_min)\n",
    "print(\"The maximum weight of babies whose mothers smoked during pregnancy and had a history of hypertension is:\", \n",
    "      find_max)\n",
    "print(\"The average weight of babies whose mothers smoked during pregnancy and had a history of hypertension is:\", \n",
    "      find_average)"
   ]
  },
  {
   "cell_type": "markdown",
   "id": "7c174243",
   "metadata": {},
   "source": [
    "#### Q12: ) Compare and contrast the results from 7-11 above and summarize your findings. Do you see any patterns in the birth weight of babies whose mother did not have any history of hypertension and/or did not smoke during pregnancy versus those who did? Ensure that you reference specific birth weights to support your explanation.\n"
   ]
  },
  {
   "cell_type": "markdown",
   "id": "cdbd40ff",
   "metadata": {},
   "source": [
    "After analyzing all the data, one pattern that can be observed is that babies born to mothers who didn't smoke during pregnancy and have no history of hypertension tend to have a higher average birth weight of 6 pounds and 13.01 ounces compared to mothers who have a history of hypertension and smoking during pregnancy. As the average birth weight for them is 5 pounds and 10.34 ounces. Mothers who didn't have a history of hypertension and didn't smoke during pregnancy had the highest average. Now comparing the maximum weight we can see mothers who don't smoke and don't have hypertension can have babies who weigh up to 11 pounds and 0.01 ounces while the maximum weight for babies whose mothers did smoke during their pregnancy and do have a history of hypertension is 8 pounds and 4.49 ounces. So smoking and having a history of hypertension can result in lower birth weight for the baby. From this, it can be inferred that a mother is more likely to produce a healthier baby in terms of weight if they don't smoke during pregnancy and don't have a history of hypertension.\n",
    "\n",
    "One commonality that can be concluded from this analysis is the presence of low birth weights ranging from 1 pound and 9.01 ounces to 2 pounds and 8.04 ounces. This means that low birth weight is observed across all groups. Then looking at the maximum birth weights, it varies from each group. For example, the max birth weight of babies for mothers with a history of hypertension was 8 pounds and 5.69 ounces, while the max weight of babies of mothers who didn't smoke during pregnancy and didn't have hypertension was 11 pounds and 0.01 ounces. This once again shows that a baby has the potential to be at a healthier weight if the mother doesn't have a history of hypertension and doesn't smoke during pregnancy.\n",
    "\n",
    "In conclusion, maternal lifestyle factors like hypertension history and smoking during pregnancy play a role in the weight of babies. Smoking and having a history of hypertension can increase the chance of a baby weighing less compared to mothers who abstain from smoking during pregnancy and mothers who don't have any history of hypertension.\n"
   ]
  }
 ],
 "metadata": {
  "kernelspec": {
   "display_name": "Python 3 (ipykernel)",
   "language": "python",
   "name": "python3"
  },
  "language_info": {
   "codemirror_mode": {
    "name": "ipython",
    "version": 3
   },
   "file_extension": ".py",
   "mimetype": "text/x-python",
   "name": "python",
   "nbconvert_exporter": "python",
   "pygments_lexer": "ipython3",
   "version": "3.11.5"
  }
 },
 "nbformat": 4,
 "nbformat_minor": 5
}
